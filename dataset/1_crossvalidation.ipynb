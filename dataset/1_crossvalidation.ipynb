{
 "cells": [
  {
   "cell_type": "code",
   "execution_count": 1,
   "metadata": {},
   "outputs": [],
   "source": [
    "import os\n",
    "import json"
   ]
  },
  {
   "cell_type": "code",
   "execution_count": 2,
   "metadata": {},
   "outputs": [],
   "source": [
    "json_path = os.path.join('1-dataset.json')\n",
    "with open(json_path) as fp:\n",
    "    dataset_train = json.load(fp)"
   ]
  },
  {
   "cell_type": "code",
   "execution_count": 3,
   "metadata": {},
   "outputs": [
    {
     "name": "stdout",
     "output_type": "stream",
     "text": [
      "FOLD 0 TRAIN:  [1, 2, 3]\n",
      "FOLD 0 VAL:  [4]\n",
      "FOLD 0 TEST:  [5]\n",
      "FOLD 1 TRAIN:  [1, 2, 5]\n",
      "FOLD 1 VAL:  [3]\n",
      "FOLD 1 TEST:  [4]\n",
      "FOLD 2 TRAIN:  [1, 4, 5]\n",
      "FOLD 2 VAL:  [2]\n",
      "FOLD 2 TEST:  [3]\n",
      "FOLD 3 TRAIN:  [3, 4, 5]\n",
      "FOLD 3 VAL:  [1]\n",
      "FOLD 3 TEST:  [2]\n",
      "FOLD 4 TRAIN:  [2, 3, 4]\n",
      "FOLD 4 VAL:  [5]\n",
      "FOLD 4 TEST:  [1]\n"
     ]
    }
   ],
   "source": [
    "num_folds = 5\n",
    "list_train={}\n",
    "list_val ={}\n",
    "list_test ={}\n",
    "\n",
    "#------------------------------P5--------------------------------------\n",
    "#FOLD0 EX 1\n",
    "fold_id=0\n",
    "list_train[fold_id] = [1,2,3]\n",
    "print(f\"FOLD {fold_id} TRAIN: \", list_train[fold_id])\n",
    "\n",
    "list_val[fold_id] = [4]\n",
    "print(f\"FOLD {fold_id} VAL: \", list_val[fold_id])\n",
    "\n",
    "list_test[fold_id] = [5]\n",
    "print(f\"FOLD {fold_id} TEST: \", list_test[fold_id])\n",
    "\n",
    "#FOLD1 EX 6\n",
    "fold_id=1\n",
    "list_train[fold_id] = [1,2,5]\n",
    "print(f\"FOLD {fold_id} TRAIN: \", list_train[fold_id])\n",
    "\n",
    "list_val[fold_id] = [3]\n",
    "print(f\"FOLD {fold_id} VAL: \", list_val[fold_id])\n",
    "\n",
    "list_test[fold_id] = [4]\n",
    "print(f\"FOLD {fold_id} TEST: \", list_test[fold_id])\n",
    "\n",
    "#FOLD2 EX 11\n",
    "fold_id=2\n",
    "list_train[fold_id] = [1,4,5]\n",
    "print(f\"FOLD {fold_id} TRAIN: \", list_train[fold_id])\n",
    "\n",
    "list_val[fold_id] = [2]\n",
    "print(f\"FOLD {fold_id} VAL: \", list_val[fold_id])\n",
    "\n",
    "list_test[fold_id] = [3]\n",
    "print(f\"FOLD {fold_id} TEST: \", list_test[fold_id])\n",
    "\n",
    "#FOLD3 EX 16\n",
    "fold_id=3\n",
    "list_train[fold_id] = [3,4,5]\n",
    "print(f\"FOLD {fold_id} TRAIN: \", list_train[fold_id])\n",
    "\n",
    "list_val[fold_id] = [1]\n",
    "print(f\"FOLD {fold_id} VAL: \", list_val[fold_id])\n",
    "\n",
    "list_test[fold_id] = [2]\n",
    "print(f\"FOLD {fold_id} TEST: \", list_test[fold_id])\n",
    "\n",
    "#FOLD4 EX 17\n",
    "fold_id=4\n",
    "list_train[fold_id] = [2,3,4]\n",
    "print(f\"FOLD {fold_id} TRAIN: \", list_train[fold_id])\n",
    "\n",
    "list_val[fold_id] = [5]\n",
    "print(f\"FOLD {fold_id} VAL: \", list_val[fold_id])\n",
    "\n",
    "list_test[fold_id] = [1]\n",
    "print(f\"FOLD {fold_id} TEST: \", list_test[fold_id])\n",
    "\n"
   ]
  },
  {
   "cell_type": "code",
   "execution_count": 4,
   "metadata": {},
   "outputs": [
    {
     "name": "stdout",
     "output_type": "stream",
     "text": [
      "13 4 4\n",
      "12 5 4\n",
      "12 4 5\n",
      "13 4 4\n",
      "13 4 4\n"
     ]
    }
   ],
   "source": [
    "data = {'num_fold':num_folds}\n",
    "for i in range(data['num_fold']):\n",
    "    data[f'fold{i}']={}\n",
    "    data[f'fold{i}']['train'] = [f for f in dataset_train if f['id'] in list_train[i]]\n",
    "    data[f'fold{i}']['val'] = [f for f in dataset_train if f['id'] in list_val[i]]\n",
    "    data[f'fold{i}']['test'] = [f for f in dataset_train if f['id'] in list_test[i]]\n",
    "    print(len(data[f'fold{i}']['train']), len(data[f'fold{i}']['val']), len(data[f'fold{i}']['test']))"
   ]
  },
  {
   "cell_type": "code",
   "execution_count": 5,
   "metadata": {},
   "outputs": [],
   "source": [
    "with open(os.path.join(f'2-dataset_crossvalidation_{num_folds}fold.json'), 'w') as fp:\n",
    "    json.dump(data,fp)"
   ]
  },
  {
   "cell_type": "code",
   "execution_count": 6,
   "metadata": {},
   "outputs": [
    {
     "data": {
      "text/plain": [
       "dict_keys(['num_fold', 'fold0', 'fold1', 'fold2', 'fold3', 'fold4'])"
      ]
     },
     "execution_count": 6,
     "metadata": {},
     "output_type": "execute_result"
    }
   ],
   "source": [
    "data.keys()"
   ]
  },
  {
   "cell_type": "code",
   "execution_count": 7,
   "metadata": {},
   "outputs": [
    {
     "data": {
      "text/plain": [
       "dict_keys(['train', 'val', 'test'])"
      ]
     },
     "execution_count": 7,
     "metadata": {},
     "output_type": "execute_result"
    }
   ],
   "source": [
    "data['fold1'].keys()"
   ]
  },
  {
   "cell_type": "code",
   "execution_count": 9,
   "metadata": {},
   "outputs": [
    {
     "data": {
      "text/plain": [
       "[{'id': 5,\n",
       "  'data': [{'images': ['/storage/data_4T/alessia_medical_datasets/ISBI_2015/ISBI2015/ISBI_Training_18/training05_01_flair_pp.nii',\n",
       "     '/storage/data_4T/alessia_medical_datasets/ISBI_2015/ISBI2015/ISBI_Training_18/training05_01_mprage_pp.nii',\n",
       "     '/storage/data_4T/alessia_medical_datasets/ISBI_2015/ISBI2015/ISBI_Training_18/training05_01_t2_pp.nii'],\n",
       "    'mask': '/storage/data_4T/alessia_medical_datasets/ISBI_2015/ISBI2015/ISBI_Training_18/training05_01_mask1.nii'}]},\n",
       " {'id': 5,\n",
       "  'data': [{'images': ['/storage/data_4T/alessia_medical_datasets/ISBI_2015/ISBI2015/ISBI_Training_20/training05_03_flair_pp.nii',\n",
       "     '/storage/data_4T/alessia_medical_datasets/ISBI_2015/ISBI2015/ISBI_Training_20/training05_03_mprage_pp.nii',\n",
       "     '/storage/data_4T/alessia_medical_datasets/ISBI_2015/ISBI2015/ISBI_Training_20/training05_03_t2_pp.nii'],\n",
       "    'mask': '/storage/data_4T/alessia_medical_datasets/ISBI_2015/ISBI2015/ISBI_Training_20/training05_03_mask1.nii'}]},\n",
       " {'id': 5,\n",
       "  'data': [{'images': ['/storage/data_4T/alessia_medical_datasets/ISBI_2015/ISBI2015/ISBI_Training_21/training05_04_flair_pp.nii',\n",
       "     '/storage/data_4T/alessia_medical_datasets/ISBI_2015/ISBI2015/ISBI_Training_21/training05_04_mprage_pp.nii',\n",
       "     '/storage/data_4T/alessia_medical_datasets/ISBI_2015/ISBI2015/ISBI_Training_21/training05_04_t2_pp.nii'],\n",
       "    'mask': '/storage/data_4T/alessia_medical_datasets/ISBI_2015/ISBI2015/ISBI_Training_21/training05_04_mask1.nii'}]},\n",
       " {'id': 5,\n",
       "  'data': [{'images': ['/storage/data_4T/alessia_medical_datasets/ISBI_2015/ISBI2015/ISBI_Training_19/training05_02_flair_pp.nii',\n",
       "     '/storage/data_4T/alessia_medical_datasets/ISBI_2015/ISBI2015/ISBI_Training_19/training05_02_mprage_pp.nii',\n",
       "     '/storage/data_4T/alessia_medical_datasets/ISBI_2015/ISBI2015/ISBI_Training_19/training05_02_t2_pp.nii'],\n",
       "    'mask': '/storage/data_4T/alessia_medical_datasets/ISBI_2015/ISBI2015/ISBI_Training_19/training05_02_mask1.nii'}]}]"
      ]
     },
     "execution_count": 9,
     "metadata": {},
     "output_type": "execute_result"
    }
   ],
   "source": [
    "data['fold0']['test']"
   ]
  },
  {
   "cell_type": "code",
   "execution_count": 10,
   "metadata": {},
   "outputs": [
    {
     "data": {
      "text/plain": [
       "[{'id': 4,\n",
       "  'data': [{'images': ['/storage/data_4T/alessia_medical_datasets/ISBI_2015/ISBI2015/ISBI_Training_15/training04_02_flair_pp.nii',\n",
       "     '/storage/data_4T/alessia_medical_datasets/ISBI_2015/ISBI2015/ISBI_Training_15/training04_02_mprage_pp.nii',\n",
       "     '/storage/data_4T/alessia_medical_datasets/ISBI_2015/ISBI2015/ISBI_Training_15/training04_02_t2_pp.nii'],\n",
       "    'mask': '/storage/data_4T/alessia_medical_datasets/ISBI_2015/ISBI2015/ISBI_Training_15/training04_02_mask1.nii'}]},\n",
       " {'id': 4,\n",
       "  'data': [{'images': ['/storage/data_4T/alessia_medical_datasets/ISBI_2015/ISBI2015/ISBI_Training_17/training04_04_flair_pp.nii',\n",
       "     '/storage/data_4T/alessia_medical_datasets/ISBI_2015/ISBI2015/ISBI_Training_17/training04_04_mprage_pp.nii',\n",
       "     '/storage/data_4T/alessia_medical_datasets/ISBI_2015/ISBI2015/ISBI_Training_17/training04_04_t2_pp.nii'],\n",
       "    'mask': '/storage/data_4T/alessia_medical_datasets/ISBI_2015/ISBI2015/ISBI_Training_17/training04_04_mask1.nii'}]},\n",
       " {'id': 4,\n",
       "  'data': [{'images': ['/storage/data_4T/alessia_medical_datasets/ISBI_2015/ISBI2015/ISBI_Training_16/training04_03_flair_pp.nii',\n",
       "     '/storage/data_4T/alessia_medical_datasets/ISBI_2015/ISBI2015/ISBI_Training_16/training04_03_mprage_pp.nii',\n",
       "     '/storage/data_4T/alessia_medical_datasets/ISBI_2015/ISBI2015/ISBI_Training_16/training04_03_t2_pp.nii'],\n",
       "    'mask': '/storage/data_4T/alessia_medical_datasets/ISBI_2015/ISBI2015/ISBI_Training_16/training04_03_mask1.nii'}]},\n",
       " {'id': 4,\n",
       "  'data': [{'images': ['/storage/data_4T/alessia_medical_datasets/ISBI_2015/ISBI2015/ISBI_Training_14/training04_01_flair_pp.nii',\n",
       "     '/storage/data_4T/alessia_medical_datasets/ISBI_2015/ISBI2015/ISBI_Training_14/training04_01_mprage_pp.nii',\n",
       "     '/storage/data_4T/alessia_medical_datasets/ISBI_2015/ISBI2015/ISBI_Training_14/training04_01_t2_pp.nii'],\n",
       "    'mask': '/storage/data_4T/alessia_medical_datasets/ISBI_2015/ISBI2015/ISBI_Training_14/training04_01_mask1.nii'}]}]"
      ]
     },
     "execution_count": 10,
     "metadata": {},
     "output_type": "execute_result"
    }
   ],
   "source": [
    "data['fold1']['test']"
   ]
  },
  {
   "cell_type": "code",
   "execution_count": 11,
   "metadata": {},
   "outputs": [
    {
     "data": {
      "text/plain": [
       "[{'id': 3,\n",
       "  'data': [{'images': ['/storage/data_4T/alessia_medical_datasets/ISBI_2015/ISBI2015/ISBI_Training_09/training03_01_flair_pp.nii',\n",
       "     '/storage/data_4T/alessia_medical_datasets/ISBI_2015/ISBI2015/ISBI_Training_09/training03_01_mprage_pp.nii',\n",
       "     '/storage/data_4T/alessia_medical_datasets/ISBI_2015/ISBI2015/ISBI_Training_09/training03_01_t2_pp.nii'],\n",
       "    'mask': '/storage/data_4T/alessia_medical_datasets/ISBI_2015/ISBI2015/ISBI_Training_09/training03_01_mask1.nii'}]},\n",
       " {'id': 3,\n",
       "  'data': [{'images': ['/storage/data_4T/alessia_medical_datasets/ISBI_2015/ISBI2015/ISBI_Training_10/training03_02_flair_pp.nii',\n",
       "     '/storage/data_4T/alessia_medical_datasets/ISBI_2015/ISBI2015/ISBI_Training_10/training03_02_mprage_pp.nii',\n",
       "     '/storage/data_4T/alessia_medical_datasets/ISBI_2015/ISBI2015/ISBI_Training_10/training03_02_t2_pp.nii'],\n",
       "    'mask': '/storage/data_4T/alessia_medical_datasets/ISBI_2015/ISBI2015/ISBI_Training_10/training03_02_mask1.nii'}]},\n",
       " {'id': 3,\n",
       "  'data': [{'images': ['/storage/data_4T/alessia_medical_datasets/ISBI_2015/ISBI2015/ISBI_Training_12/training03_04_flair_pp.nii',\n",
       "     '/storage/data_4T/alessia_medical_datasets/ISBI_2015/ISBI2015/ISBI_Training_12/training03_04_mprage_pp.nii',\n",
       "     '/storage/data_4T/alessia_medical_datasets/ISBI_2015/ISBI2015/ISBI_Training_12/training03_04_t2_pp.nii'],\n",
       "    'mask': '/storage/data_4T/alessia_medical_datasets/ISBI_2015/ISBI2015/ISBI_Training_12/training03_04_mask1.nii'}]},\n",
       " {'id': 3,\n",
       "  'data': [{'images': ['/storage/data_4T/alessia_medical_datasets/ISBI_2015/ISBI2015/ISBI_Training_11/training03_03_flair_pp.nii',\n",
       "     '/storage/data_4T/alessia_medical_datasets/ISBI_2015/ISBI2015/ISBI_Training_11/training03_03_mprage_pp.nii',\n",
       "     '/storage/data_4T/alessia_medical_datasets/ISBI_2015/ISBI2015/ISBI_Training_11/training03_03_t2_pp.nii'],\n",
       "    'mask': '/storage/data_4T/alessia_medical_datasets/ISBI_2015/ISBI2015/ISBI_Training_11/training03_03_mask1.nii'}]},\n",
       " {'id': 3,\n",
       "  'data': [{'images': ['/storage/data_4T/alessia_medical_datasets/ISBI_2015/ISBI2015/ISBI_Training_13/training03_05_flair_pp.nii',\n",
       "     '/storage/data_4T/alessia_medical_datasets/ISBI_2015/ISBI2015/ISBI_Training_13/training03_05_mprage_pp.nii',\n",
       "     '/storage/data_4T/alessia_medical_datasets/ISBI_2015/ISBI2015/ISBI_Training_13/training03_05_t2_pp.nii'],\n",
       "    'mask': '/storage/data_4T/alessia_medical_datasets/ISBI_2015/ISBI2015/ISBI_Training_13/training03_05_mask1.nii'}]}]"
      ]
     },
     "execution_count": 11,
     "metadata": {},
     "output_type": "execute_result"
    }
   ],
   "source": [
    "data['fold2']['test']"
   ]
  },
  {
   "cell_type": "code",
   "execution_count": 12,
   "metadata": {},
   "outputs": [
    {
     "data": {
      "text/plain": [
       "[{'id': 2,\n",
       "  'data': [{'images': ['/storage/data_4T/alessia_medical_datasets/ISBI_2015/ISBI2015/ISBI_Training_05/training02_01_flair_pp.nii',\n",
       "     '/storage/data_4T/alessia_medical_datasets/ISBI_2015/ISBI2015/ISBI_Training_05/training02_01_mprage_pp.nii',\n",
       "     '/storage/data_4T/alessia_medical_datasets/ISBI_2015/ISBI2015/ISBI_Training_05/training02_01_t2_pp.nii'],\n",
       "    'mask': '/storage/data_4T/alessia_medical_datasets/ISBI_2015/ISBI2015/ISBI_Training_05/training02_01_mask1.nii'}]},\n",
       " {'id': 2,\n",
       "  'data': [{'images': ['/storage/data_4T/alessia_medical_datasets/ISBI_2015/ISBI2015/ISBI_Training_08/training02_04_flair_pp.nii',\n",
       "     '/storage/data_4T/alessia_medical_datasets/ISBI_2015/ISBI2015/ISBI_Training_08/training02_04_mprage_pp.nii',\n",
       "     '/storage/data_4T/alessia_medical_datasets/ISBI_2015/ISBI2015/ISBI_Training_08/training02_04_t2_pp.nii'],\n",
       "    'mask': '/storage/data_4T/alessia_medical_datasets/ISBI_2015/ISBI2015/ISBI_Training_08/training02_04_mask1.nii'}]},\n",
       " {'id': 2,\n",
       "  'data': [{'images': ['/storage/data_4T/alessia_medical_datasets/ISBI_2015/ISBI2015/ISBI_Training_06/training02_02_flair_pp.nii',\n",
       "     '/storage/data_4T/alessia_medical_datasets/ISBI_2015/ISBI2015/ISBI_Training_06/training02_02_mprage_pp.nii',\n",
       "     '/storage/data_4T/alessia_medical_datasets/ISBI_2015/ISBI2015/ISBI_Training_06/training02_02_t2_pp.nii'],\n",
       "    'mask': '/storage/data_4T/alessia_medical_datasets/ISBI_2015/ISBI2015/ISBI_Training_06/training02_02_mask1.nii'}]},\n",
       " {'id': 2,\n",
       "  'data': [{'images': ['/storage/data_4T/alessia_medical_datasets/ISBI_2015/ISBI2015/ISBI_Training_07/training02_03_flair_pp.nii',\n",
       "     '/storage/data_4T/alessia_medical_datasets/ISBI_2015/ISBI2015/ISBI_Training_07/training02_03_mprage_pp.nii',\n",
       "     '/storage/data_4T/alessia_medical_datasets/ISBI_2015/ISBI2015/ISBI_Training_07/training02_03_t2_pp.nii'],\n",
       "    'mask': '/storage/data_4T/alessia_medical_datasets/ISBI_2015/ISBI2015/ISBI_Training_07/training02_03_mask1.nii'}]}]"
      ]
     },
     "execution_count": 12,
     "metadata": {},
     "output_type": "execute_result"
    }
   ],
   "source": [
    "data['fold3']['test']"
   ]
  },
  {
   "cell_type": "code",
   "execution_count": 8,
   "metadata": {},
   "outputs": [
    {
     "data": {
      "text/plain": [
       "[{'id': 1,\n",
       "  'data': [{'images': ['/storage/data_4T/alessia_medical_datasets/ISBI_2015/ISBI2015/ISBI_Training_04/training01_04_flair_pp.nii',\n",
       "     '/storage/data_4T/alessia_medical_datasets/ISBI_2015/ISBI2015/ISBI_Training_04/training01_04_mprage_pp.nii',\n",
       "     '/storage/data_4T/alessia_medical_datasets/ISBI_2015/ISBI2015/ISBI_Training_04/training01_04_t2_pp.nii'],\n",
       "    'mask': '/storage/data_4T/alessia_medical_datasets/ISBI_2015/ISBI2015/ISBI_Training_04/training01_04_mask1.nii'}]},\n",
       " {'id': 1,\n",
       "  'data': [{'images': ['/storage/data_4T/alessia_medical_datasets/ISBI_2015/ISBI2015/ISBI_Training_02/training01_02_flair_pp.nii',\n",
       "     '/storage/data_4T/alessia_medical_datasets/ISBI_2015/ISBI2015/ISBI_Training_02/training01_02_mprage_pp.nii',\n",
       "     '/storage/data_4T/alessia_medical_datasets/ISBI_2015/ISBI2015/ISBI_Training_02/training01_02_t2_pp.nii'],\n",
       "    'mask': '/storage/data_4T/alessia_medical_datasets/ISBI_2015/ISBI2015/ISBI_Training_02/training01_02_mask1.nii'}]},\n",
       " {'id': 1,\n",
       "  'data': [{'images': ['/storage/data_4T/alessia_medical_datasets/ISBI_2015/ISBI2015/ISBI_Training_01/training01_01_flair_pp.nii',\n",
       "     '/storage/data_4T/alessia_medical_datasets/ISBI_2015/ISBI2015/ISBI_Training_01/training01_01_mprage_pp.nii',\n",
       "     '/storage/data_4T/alessia_medical_datasets/ISBI_2015/ISBI2015/ISBI_Training_01/training01_01_t2_pp.nii'],\n",
       "    'mask': '/storage/data_4T/alessia_medical_datasets/ISBI_2015/ISBI2015/ISBI_Training_01/training01_01_mask1.nii'}]},\n",
       " {'id': 1,\n",
       "  'data': [{'images': ['/storage/data_4T/alessia_medical_datasets/ISBI_2015/ISBI2015/ISBI_Training_03/training01_03_flair_pp.nii',\n",
       "     '/storage/data_4T/alessia_medical_datasets/ISBI_2015/ISBI2015/ISBI_Training_03/training01_03_mprage_pp.nii',\n",
       "     '/storage/data_4T/alessia_medical_datasets/ISBI_2015/ISBI2015/ISBI_Training_03/training01_03_t2_pp.nii'],\n",
       "    'mask': '/storage/data_4T/alessia_medical_datasets/ISBI_2015/ISBI2015/ISBI_Training_03/training01_03_mask1.nii'}]}]"
      ]
     },
     "execution_count": 8,
     "metadata": {},
     "output_type": "execute_result"
    }
   ],
   "source": [
    "data['fold4']['test']"
   ]
  },
  {
   "cell_type": "code",
   "execution_count": null,
   "metadata": {},
   "outputs": [],
   "source": []
  },
  {
   "cell_type": "code",
   "execution_count": 24,
   "metadata": {},
   "outputs": [
    {
     "name": "stdout",
     "output_type": "stream",
     "text": [
      "12\n",
      "5\n"
     ]
    }
   ],
   "source": [
    "print(len(data['fold1']['train']))\n",
    "print(len(data['fold1']['val']))"
   ]
  },
  {
   "cell_type": "code",
   "execution_count": null,
   "metadata": {},
   "outputs": [],
   "source": []
  }
 ],
 "metadata": {
  "kernelspec": {
   "display_name": "pytorch",
   "language": "python",
   "name": "python3"
  },
  "language_info": {
   "codemirror_mode": {
    "name": "ipython",
    "version": 3
   },
   "file_extension": ".py",
   "mimetype": "text/x-python",
   "name": "python",
   "nbconvert_exporter": "python",
   "pygments_lexer": "ipython3",
   "version": "3.7.16"
  },
  "orig_nbformat": 4
 },
 "nbformat": 4,
 "nbformat_minor": 2
}
