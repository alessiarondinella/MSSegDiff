{
 "cells": [
  {
   "cell_type": "code",
   "execution_count": 1,
   "metadata": {
    "vscode": {
     "languageId": "shellscript"
    }
   },
   "outputs": [],
   "source": [
    "import os\n",
    "import pandas as pd\n",
    "import json\n",
    "from natsort import natsorted\n",
    "import glob"
   ]
  },
  {
   "cell_type": "code",
   "execution_count": 3,
   "metadata": {
    "vscode": {
     "languageId": "shellscript"
    }
   },
   "outputs": [],
   "source": [
    "dataset_path = '/storage/data_4T/alessia_medical_datasets/ISBI_2015/ISBI2015'\n",
    "all_dirs = os.listdir(dataset_path)\n",
    "all_paths = [os.path.join(dataset_path, d) for d in all_dirs]\n",
    "    \n",
    "    "
   ]
  },
  {
   "cell_type": "code",
   "execution_count": 4,
   "metadata": {
    "vscode": {
     "languageId": "shellscript"
    }
   },
   "outputs": [],
   "source": [
    "dataset = []\n",
    "for patient in all_paths:\n",
    "    if \"Training_01\" in patient or \"Training_02\" in patient or \"Training_03\" in patient or \"Training_04\" in patient:\n",
    "        imgs= glob.glob(os.path.join(patient, \"*_flair_pp.nii\"))[0], glob.glob(os.path.join(patient, \"*_mprage_pp.nii\"))[0], glob.glob(os.path.join(patient, \"*_t2_pp.nii\"))[0],\n",
    "        mask= glob.glob(os.path.join(patient, \"*_mask1.nii\"))[0]\n",
    "        d_im = {\n",
    "        'images': imgs,\n",
    "        'mask' : mask,\n",
    "        }\n",
    "        images=[]\n",
    "        d = {\n",
    "        'id' : 1,\n",
    "        }\n",
    "        images.append(d_im)\n",
    "        d['data'] = images\n",
    "        dataset.append(d)\n",
    "    \n",
    "    if \"Training_05\" in patient or \"Training_06\" in patient or \"Training_07\" in patient or \"Training_08\" in patient:\n",
    "        imgs= glob.glob(os.path.join(patient, \"*_flair_pp.nii\"))[0], glob.glob(os.path.join(patient, \"*_mprage_pp.nii\"))[0], glob.glob(os.path.join(patient, \"*_t2_pp.nii\"))[0],\n",
    "        mask= glob.glob(os.path.join(patient, \"*_mask1.nii\"))[0]\n",
    "        d_im = {\n",
    "        'images': imgs,\n",
    "        'mask' : mask,\n",
    "        }\n",
    "        images=[]\n",
    "        d = {\n",
    "        'id' : 2,\n",
    "        }\n",
    "        images.append(d_im)\n",
    "        d['data'] = images\n",
    "        dataset.append(d)\n",
    "\n",
    "    if \"Training_09\" in patient or \"Training_10\" in patient or \"Training_11\" in patient or \"Training_12\" in patient or \"Training_13\" in patient:\n",
    "        imgs= glob.glob(os.path.join(patient, \"*_flair_pp.nii\"))[0], glob.glob(os.path.join(patient, \"*_mprage_pp.nii\"))[0], glob.glob(os.path.join(patient, \"*_t2_pp.nii\"))[0],\n",
    "        mask= glob.glob(os.path.join(patient, \"*_mask1.nii\"))[0]\n",
    "        d_im = {\n",
    "        'images': imgs,\n",
    "        'mask' : mask,\n",
    "        }\n",
    "        images=[]\n",
    "        d = {\n",
    "        'id' : 3,\n",
    "        }\n",
    "        images.append(d_im)\n",
    "        d['data'] = images\n",
    "        dataset.append(d)\n",
    "\n",
    "    if \"Training_14\" in patient or \"Training_15\" in patient or \"Training_16\" in patient or \"Training_17\" in patient:\n",
    "        imgs= glob.glob(os.path.join(patient, \"*_flair_pp.nii\"))[0], glob.glob(os.path.join(patient, \"*_mprage_pp.nii\"))[0], glob.glob(os.path.join(patient, \"*_t2_pp.nii\"))[0],\n",
    "        mask= glob.glob(os.path.join(patient, \"*_mask1.nii\"))[0]\n",
    "        d_im = {\n",
    "        'images': imgs,\n",
    "        'mask' : mask,\n",
    "        }\n",
    "        images=[]\n",
    "        d = {\n",
    "        'id' : 4,\n",
    "        }\n",
    "        images.append(d_im)\n",
    "        d['data'] = images\n",
    "        dataset.append(d)\n",
    "\n",
    "    if \"Training_18\" in patient or \"Training_19\" in patient or \"Training_20\" in patient or \"Training_21\" in patient:\n",
    "        imgs= glob.glob(os.path.join(patient, \"*_flair_pp.nii\"))[0], glob.glob(os.path.join(patient, \"*_mprage_pp.nii\"))[0], glob.glob(os.path.join(patient, \"*_t2_pp.nii\"))[0],\n",
    "        mask= glob.glob(os.path.join(patient, \"*_mask1.nii\"))[0]\n",
    "        d_im = {\n",
    "        'images': imgs,\n",
    "        'mask' : mask,\n",
    "        }\n",
    "        images=[]\n",
    "        d = {\n",
    "        'id' : 5,\n",
    "        }\n",
    "        images.append(d_im)\n",
    "        d['data'] = images\n",
    "        dataset.append(d)\n"
   ]
  },
  {
   "cell_type": "code",
   "execution_count": 5,
   "metadata": {
    "vscode": {
     "languageId": "shellscript"
    }
   },
   "outputs": [
    {
     "data": {
      "text/plain": [
       "[{'id': 4,\n",
       "  'data': [{'images': ('/storage/data_4T/alessia_medical_datasets/ISBI_2015/ISBI2015/ISBI_Training_15/training04_02_flair_pp.nii',\n",
       "     '/storage/data_4T/alessia_medical_datasets/ISBI_2015/ISBI2015/ISBI_Training_15/training04_02_mprage_pp.nii',\n",
       "     '/storage/data_4T/alessia_medical_datasets/ISBI_2015/ISBI2015/ISBI_Training_15/training04_02_t2_pp.nii'),\n",
       "    'mask': '/storage/data_4T/alessia_medical_datasets/ISBI_2015/ISBI2015/ISBI_Training_15/training04_02_mask1.nii'}]},\n",
       " {'id': 4,\n",
       "  'data': [{'images': ('/storage/data_4T/alessia_medical_datasets/ISBI_2015/ISBI2015/ISBI_Training_17/training04_04_flair_pp.nii',\n",
       "     '/storage/data_4T/alessia_medical_datasets/ISBI_2015/ISBI2015/ISBI_Training_17/training04_04_mprage_pp.nii',\n",
       "     '/storage/data_4T/alessia_medical_datasets/ISBI_2015/ISBI2015/ISBI_Training_17/training04_04_t2_pp.nii'),\n",
       "    'mask': '/storage/data_4T/alessia_medical_datasets/ISBI_2015/ISBI2015/ISBI_Training_17/training04_04_mask1.nii'}]},\n",
       " {'id': 4,\n",
       "  'data': [{'images': ('/storage/data_4T/alessia_medical_datasets/ISBI_2015/ISBI2015/ISBI_Training_16/training04_03_flair_pp.nii',\n",
       "     '/storage/data_4T/alessia_medical_datasets/ISBI_2015/ISBI2015/ISBI_Training_16/training04_03_mprage_pp.nii',\n",
       "     '/storage/data_4T/alessia_medical_datasets/ISBI_2015/ISBI2015/ISBI_Training_16/training04_03_t2_pp.nii'),\n",
       "    'mask': '/storage/data_4T/alessia_medical_datasets/ISBI_2015/ISBI2015/ISBI_Training_16/training04_03_mask1.nii'}]},\n",
       " {'id': 3,\n",
       "  'data': [{'images': ('/storage/data_4T/alessia_medical_datasets/ISBI_2015/ISBI2015/ISBI_Training_09/training03_01_flair_pp.nii',\n",
       "     '/storage/data_4T/alessia_medical_datasets/ISBI_2015/ISBI2015/ISBI_Training_09/training03_01_mprage_pp.nii',\n",
       "     '/storage/data_4T/alessia_medical_datasets/ISBI_2015/ISBI2015/ISBI_Training_09/training03_01_t2_pp.nii'),\n",
       "    'mask': '/storage/data_4T/alessia_medical_datasets/ISBI_2015/ISBI2015/ISBI_Training_09/training03_01_mask1.nii'}]},\n",
       " {'id': 1,\n",
       "  'data': [{'images': ('/storage/data_4T/alessia_medical_datasets/ISBI_2015/ISBI2015/ISBI_Training_04/training01_04_flair_pp.nii',\n",
       "     '/storage/data_4T/alessia_medical_datasets/ISBI_2015/ISBI2015/ISBI_Training_04/training01_04_mprage_pp.nii',\n",
       "     '/storage/data_4T/alessia_medical_datasets/ISBI_2015/ISBI2015/ISBI_Training_04/training01_04_t2_pp.nii'),\n",
       "    'mask': '/storage/data_4T/alessia_medical_datasets/ISBI_2015/ISBI2015/ISBI_Training_04/training01_04_mask1.nii'}]},\n",
       " {'id': 1,\n",
       "  'data': [{'images': ('/storage/data_4T/alessia_medical_datasets/ISBI_2015/ISBI2015/ISBI_Training_02/training01_02_flair_pp.nii',\n",
       "     '/storage/data_4T/alessia_medical_datasets/ISBI_2015/ISBI2015/ISBI_Training_02/training01_02_mprage_pp.nii',\n",
       "     '/storage/data_4T/alessia_medical_datasets/ISBI_2015/ISBI2015/ISBI_Training_02/training01_02_t2_pp.nii'),\n",
       "    'mask': '/storage/data_4T/alessia_medical_datasets/ISBI_2015/ISBI2015/ISBI_Training_02/training01_02_mask1.nii'}]},\n",
       " {'id': 5,\n",
       "  'data': [{'images': ('/storage/data_4T/alessia_medical_datasets/ISBI_2015/ISBI2015/ISBI_Training_18/training05_01_flair_pp.nii',\n",
       "     '/storage/data_4T/alessia_medical_datasets/ISBI_2015/ISBI2015/ISBI_Training_18/training05_01_mprage_pp.nii',\n",
       "     '/storage/data_4T/alessia_medical_datasets/ISBI_2015/ISBI2015/ISBI_Training_18/training05_01_t2_pp.nii'),\n",
       "    'mask': '/storage/data_4T/alessia_medical_datasets/ISBI_2015/ISBI2015/ISBI_Training_18/training05_01_mask1.nii'}]},\n",
       " {'id': 5,\n",
       "  'data': [{'images': ('/storage/data_4T/alessia_medical_datasets/ISBI_2015/ISBI2015/ISBI_Training_20/training05_03_flair_pp.nii',\n",
       "     '/storage/data_4T/alessia_medical_datasets/ISBI_2015/ISBI2015/ISBI_Training_20/training05_03_mprage_pp.nii',\n",
       "     '/storage/data_4T/alessia_medical_datasets/ISBI_2015/ISBI2015/ISBI_Training_20/training05_03_t2_pp.nii'),\n",
       "    'mask': '/storage/data_4T/alessia_medical_datasets/ISBI_2015/ISBI2015/ISBI_Training_20/training05_03_mask1.nii'}]},\n",
       " {'id': 2,\n",
       "  'data': [{'images': ('/storage/data_4T/alessia_medical_datasets/ISBI_2015/ISBI2015/ISBI_Training_05/training02_01_flair_pp.nii',\n",
       "     '/storage/data_4T/alessia_medical_datasets/ISBI_2015/ISBI2015/ISBI_Training_05/training02_01_mprage_pp.nii',\n",
       "     '/storage/data_4T/alessia_medical_datasets/ISBI_2015/ISBI2015/ISBI_Training_05/training02_01_t2_pp.nii'),\n",
       "    'mask': '/storage/data_4T/alessia_medical_datasets/ISBI_2015/ISBI2015/ISBI_Training_05/training02_01_mask1.nii'}]},\n",
       " {'id': 1,\n",
       "  'data': [{'images': ('/storage/data_4T/alessia_medical_datasets/ISBI_2015/ISBI2015/ISBI_Training_01/training01_01_flair_pp.nii',\n",
       "     '/storage/data_4T/alessia_medical_datasets/ISBI_2015/ISBI2015/ISBI_Training_01/training01_01_mprage_pp.nii',\n",
       "     '/storage/data_4T/alessia_medical_datasets/ISBI_2015/ISBI2015/ISBI_Training_01/training01_01_t2_pp.nii'),\n",
       "    'mask': '/storage/data_4T/alessia_medical_datasets/ISBI_2015/ISBI2015/ISBI_Training_01/training01_01_mask1.nii'}]},\n",
       " {'id': 4,\n",
       "  'data': [{'images': ('/storage/data_4T/alessia_medical_datasets/ISBI_2015/ISBI2015/ISBI_Training_14/training04_01_flair_pp.nii',\n",
       "     '/storage/data_4T/alessia_medical_datasets/ISBI_2015/ISBI2015/ISBI_Training_14/training04_01_mprage_pp.nii',\n",
       "     '/storage/data_4T/alessia_medical_datasets/ISBI_2015/ISBI2015/ISBI_Training_14/training04_01_t2_pp.nii'),\n",
       "    'mask': '/storage/data_4T/alessia_medical_datasets/ISBI_2015/ISBI2015/ISBI_Training_14/training04_01_mask1.nii'}]},\n",
       " {'id': 2,\n",
       "  'data': [{'images': ('/storage/data_4T/alessia_medical_datasets/ISBI_2015/ISBI2015/ISBI_Training_08/training02_04_flair_pp.nii',\n",
       "     '/storage/data_4T/alessia_medical_datasets/ISBI_2015/ISBI2015/ISBI_Training_08/training02_04_mprage_pp.nii',\n",
       "     '/storage/data_4T/alessia_medical_datasets/ISBI_2015/ISBI2015/ISBI_Training_08/training02_04_t2_pp.nii'),\n",
       "    'mask': '/storage/data_4T/alessia_medical_datasets/ISBI_2015/ISBI2015/ISBI_Training_08/training02_04_mask1.nii'}]},\n",
       " {'id': 2,\n",
       "  'data': [{'images': ('/storage/data_4T/alessia_medical_datasets/ISBI_2015/ISBI2015/ISBI_Training_06/training02_02_flair_pp.nii',\n",
       "     '/storage/data_4T/alessia_medical_datasets/ISBI_2015/ISBI2015/ISBI_Training_06/training02_02_mprage_pp.nii',\n",
       "     '/storage/data_4T/alessia_medical_datasets/ISBI_2015/ISBI2015/ISBI_Training_06/training02_02_t2_pp.nii'),\n",
       "    'mask': '/storage/data_4T/alessia_medical_datasets/ISBI_2015/ISBI2015/ISBI_Training_06/training02_02_mask1.nii'}]},\n",
       " {'id': 3,\n",
       "  'data': [{'images': ('/storage/data_4T/alessia_medical_datasets/ISBI_2015/ISBI2015/ISBI_Training_10/training03_02_flair_pp.nii',\n",
       "     '/storage/data_4T/alessia_medical_datasets/ISBI_2015/ISBI2015/ISBI_Training_10/training03_02_mprage_pp.nii',\n",
       "     '/storage/data_4T/alessia_medical_datasets/ISBI_2015/ISBI2015/ISBI_Training_10/training03_02_t2_pp.nii'),\n",
       "    'mask': '/storage/data_4T/alessia_medical_datasets/ISBI_2015/ISBI2015/ISBI_Training_10/training03_02_mask1.nii'}]},\n",
       " {'id': 1,\n",
       "  'data': [{'images': ('/storage/data_4T/alessia_medical_datasets/ISBI_2015/ISBI2015/ISBI_Training_03/training01_03_flair_pp.nii',\n",
       "     '/storage/data_4T/alessia_medical_datasets/ISBI_2015/ISBI2015/ISBI_Training_03/training01_03_mprage_pp.nii',\n",
       "     '/storage/data_4T/alessia_medical_datasets/ISBI_2015/ISBI2015/ISBI_Training_03/training01_03_t2_pp.nii'),\n",
       "    'mask': '/storage/data_4T/alessia_medical_datasets/ISBI_2015/ISBI2015/ISBI_Training_03/training01_03_mask1.nii'}]},\n",
       " {'id': 3,\n",
       "  'data': [{'images': ('/storage/data_4T/alessia_medical_datasets/ISBI_2015/ISBI2015/ISBI_Training_12/training03_04_flair_pp.nii',\n",
       "     '/storage/data_4T/alessia_medical_datasets/ISBI_2015/ISBI2015/ISBI_Training_12/training03_04_mprage_pp.nii',\n",
       "     '/storage/data_4T/alessia_medical_datasets/ISBI_2015/ISBI2015/ISBI_Training_12/training03_04_t2_pp.nii'),\n",
       "    'mask': '/storage/data_4T/alessia_medical_datasets/ISBI_2015/ISBI2015/ISBI_Training_12/training03_04_mask1.nii'}]},\n",
       " {'id': 3,\n",
       "  'data': [{'images': ('/storage/data_4T/alessia_medical_datasets/ISBI_2015/ISBI2015/ISBI_Training_11/training03_03_flair_pp.nii',\n",
       "     '/storage/data_4T/alessia_medical_datasets/ISBI_2015/ISBI2015/ISBI_Training_11/training03_03_mprage_pp.nii',\n",
       "     '/storage/data_4T/alessia_medical_datasets/ISBI_2015/ISBI2015/ISBI_Training_11/training03_03_t2_pp.nii'),\n",
       "    'mask': '/storage/data_4T/alessia_medical_datasets/ISBI_2015/ISBI2015/ISBI_Training_11/training03_03_mask1.nii'}]},\n",
       " {'id': 5,\n",
       "  'data': [{'images': ('/storage/data_4T/alessia_medical_datasets/ISBI_2015/ISBI2015/ISBI_Training_21/training05_04_flair_pp.nii',\n",
       "     '/storage/data_4T/alessia_medical_datasets/ISBI_2015/ISBI2015/ISBI_Training_21/training05_04_mprage_pp.nii',\n",
       "     '/storage/data_4T/alessia_medical_datasets/ISBI_2015/ISBI2015/ISBI_Training_21/training05_04_t2_pp.nii'),\n",
       "    'mask': '/storage/data_4T/alessia_medical_datasets/ISBI_2015/ISBI2015/ISBI_Training_21/training05_04_mask1.nii'}]},\n",
       " {'id': 2,\n",
       "  'data': [{'images': ('/storage/data_4T/alessia_medical_datasets/ISBI_2015/ISBI2015/ISBI_Training_07/training02_03_flair_pp.nii',\n",
       "     '/storage/data_4T/alessia_medical_datasets/ISBI_2015/ISBI2015/ISBI_Training_07/training02_03_mprage_pp.nii',\n",
       "     '/storage/data_4T/alessia_medical_datasets/ISBI_2015/ISBI2015/ISBI_Training_07/training02_03_t2_pp.nii'),\n",
       "    'mask': '/storage/data_4T/alessia_medical_datasets/ISBI_2015/ISBI2015/ISBI_Training_07/training02_03_mask1.nii'}]},\n",
       " {'id': 5,\n",
       "  'data': [{'images': ('/storage/data_4T/alessia_medical_datasets/ISBI_2015/ISBI2015/ISBI_Training_19/training05_02_flair_pp.nii',\n",
       "     '/storage/data_4T/alessia_medical_datasets/ISBI_2015/ISBI2015/ISBI_Training_19/training05_02_mprage_pp.nii',\n",
       "     '/storage/data_4T/alessia_medical_datasets/ISBI_2015/ISBI2015/ISBI_Training_19/training05_02_t2_pp.nii'),\n",
       "    'mask': '/storage/data_4T/alessia_medical_datasets/ISBI_2015/ISBI2015/ISBI_Training_19/training05_02_mask1.nii'}]},\n",
       " {'id': 3,\n",
       "  'data': [{'images': ('/storage/data_4T/alessia_medical_datasets/ISBI_2015/ISBI2015/ISBI_Training_13/training03_05_flair_pp.nii',\n",
       "     '/storage/data_4T/alessia_medical_datasets/ISBI_2015/ISBI2015/ISBI_Training_13/training03_05_mprage_pp.nii',\n",
       "     '/storage/data_4T/alessia_medical_datasets/ISBI_2015/ISBI2015/ISBI_Training_13/training03_05_t2_pp.nii'),\n",
       "    'mask': '/storage/data_4T/alessia_medical_datasets/ISBI_2015/ISBI2015/ISBI_Training_13/training03_05_mask1.nii'}]}]"
      ]
     },
     "execution_count": 5,
     "metadata": {},
     "output_type": "execute_result"
    }
   ],
   "source": [
    "dataset"
   ]
  },
  {
   "cell_type": "code",
   "execution_count": 6,
   "metadata": {
    "vscode": {
     "languageId": "shellscript"
    }
   },
   "outputs": [
    {
     "data": {
      "text/plain": [
       "21"
      ]
     },
     "execution_count": 6,
     "metadata": {},
     "output_type": "execute_result"
    }
   ],
   "source": [
    "len(dataset)"
   ]
  },
  {
   "cell_type": "code",
   "execution_count": 7,
   "metadata": {
    "vscode": {
     "languageId": "shellscript"
    }
   },
   "outputs": [],
   "source": [
    "import numpy as np\n",
    "\n",
    "def np_encoder(object):\n",
    "    if isinstance(object, np.generic):\n",
    "        return object.item()"
   ]
  },
  {
   "cell_type": "code",
   "execution_count": 8,
   "metadata": {
    "vscode": {
     "languageId": "shellscript"
    }
   },
   "outputs": [],
   "source": [
    "with open('1-dataset.json', 'w') as fp:\n",
    "    json.dump(dataset,fp, default=np_encoder)"
   ]
  },
  {
   "cell_type": "code",
   "execution_count": null,
   "metadata": {
    "vscode": {
     "languageId": "shellscript"
    }
   },
   "outputs": [],
   "source": []
  }
 ],
 "metadata": {
  "kernelspec": {
   "display_name": "pytorch",
   "language": "python",
   "name": "python3"
  },
  "language_info": {
   "codemirror_mode": {
    "name": "ipython",
    "version": 3
   },
   "file_extension": ".py",
   "mimetype": "text/x-python",
   "name": "python",
   "nbconvert_exporter": "python",
   "pygments_lexer": "ipython3",
   "version": "3.7.16"
  },
  "orig_nbformat": 4
 },
 "nbformat": 4,
 "nbformat_minor": 2
}
